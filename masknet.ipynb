{
 "cells": [
  {
   "cell_type": "code",
   "execution_count": 1,
   "metadata": {},
   "outputs": [],
   "source": [
    "import numpy as np\n",
    "from tensorflow.keras import Model\n",
    "from tensorflow.keras.layers import Input, Dense, MaxPool2D, Flatten, Dropout, BatchNormalization\n",
    "from tensorflow.keras.applications import InceptionV3\n",
    "from tensorflow.keras.losses import BinaryCrossentropy\n",
    "from tensorflow.keras.optimizers import Adam\n",
    "from tensorflow.keras.preprocessing.image import ImageDataGenerator\n",
    "from tensorflow.keras.utils import to_categorical\n",
    "from sklearn.preprocessing import LabelEncoder\n",
    "from sklearn.model_selection import train_test_split\n",
    "from sklearn.metrics import classification_report\n",
    "from sklearn.metrics import confusion_matrix\n",
    "import matplotlib.pyplot as plt\n",
    "import cv2\n",
    "from imutils import paths\n",
    "import os"
   ]
  },
  {
   "cell_type": "code",
   "execution_count": 2,
   "metadata": {},
   "outputs": [],
   "source": [
    "# set input and output paths\n",
    "basepath = \"/home/rafa/Downloads/github-projects/masknet/data/\"\n",
    "figpath = \"plot.png\"\n",
    "modelpath = \"masknet.model\""
   ]
  },
  {
   "cell_type": "code",
   "execution_count": 3,
   "metadata": {},
   "outputs": [],
   "source": [
    "# get all image paths in the base directory\n",
    "imagepaths = list(paths.list_images(basepath))\n",
    "data = []\n",
    "labels = []\n",
    "\n",
    "# loop over the image paths\n",
    "for imagepath in imagepaths:\n",
    "    # get the class label from the filename\n",
    "    label = imagepath.split(os.path.sep)[-2]\n",
    "\n",
    "    # load the image, swap color channels, and resize it to 224x224 pixels\n",
    "    image = cv2.imread(imagepath)\n",
    "    image = cv2.cvtColor(image, cv2.COLOR_BGR2RGB)\n",
    "    image = cv2.resize(image, (224, 224))\n",
    "\n",
    "    # append data and labels\n",
    "    data.append(image)\n",
    "    labels.append(label)"
   ]
  },
  {
   "cell_type": "code",
   "execution_count": 4,
   "metadata": {},
   "outputs": [],
   "source": [
    "# transform data and labels to numpy arrays and rescale data to [0, 1]\n",
    "data = np.array(data) / 255.0\n",
    "labels = np.array(labels)\n",
    "\n",
    "# perform one-hot encoding on the labels\n",
    "le = LabelEncoder()\n",
    "labels = le.fit_transform(labels)\n",
    "labels = to_categorical(labels)\n",
    "\n",
    "# partition the data into 80% for training and  20% for testing\n",
    "(trainX, testX, trainY, testY) = train_test_split(data, labels, test_size=0.20, stratify=labels)\n",
    "\n",
    "# initialize the training data augmentation object\n",
    "trainAug = ImageDataGenerator(width_shift_range=0.1, height_shift_range=0.1, rotation_range=15, fill_mode=\"nearest\")"
   ]
  },
  {
   "cell_type": "code",
   "execution_count": 5,
   "metadata": {},
   "outputs": [],
   "source": [
    "# get resnet and weights\n",
    "basemodel = InceptionV3(include_top=False, weights='imagenet', input_tensor=Input(shape=(224, 224, 3)))\n",
    "\n",
    "for layer in basemodel.layers:\n",
    "    layer.trainable = False\n",
    "\n",
    "# build the model\n",
    "x = basemodel.output\n",
    "\n",
    "x = MaxPool2D(pool_size=(4, 4))(x)\n",
    "x = Flatten()(x)\n",
    "\n",
    "x = Dense(128, activation=\"relu\")(x)\n",
    "x = Dropout(0.5)(x)\n",
    "\n",
    "outputs = Dense(2, activation=\"softmax\")(x)\n",
    "\n",
    "model = Model(inputs=basemodel.input, outputs=outputs)"
   ]
  },
  {
   "cell_type": "code",
   "execution_count": 6,
   "metadata": {},
   "outputs": [],
   "source": [
    "# compile the model\n",
    "epochs = 25\n",
    "batch_size = 64\n",
    "\n",
    "loss = BinaryCrossentropy()\n",
    "opt = Adam()\n",
    "model.compile(loss=loss, optimizer=opt, metrics=[\"accuracy\"])"
   ]
  },
  {
   "cell_type": "code",
   "execution_count": 7,
   "metadata": {},
   "outputs": [
    {
     "name": "stdout",
     "output_type": "stream",
     "text": [
      "Epoch 1/25\n",
      "47/47 [==============================] - 21s 450ms/step - loss: 0.2853 - accuracy: 0.9241 - val_loss: 0.0359 - val_accuracy: 0.9870\n",
      "Epoch 2/25\n",
      "47/47 [==============================] - 19s 399ms/step - loss: 0.0613 - accuracy: 0.9787 - val_loss: 0.0194 - val_accuracy: 0.9935\n",
      "Epoch 3/25\n",
      "47/47 [==============================] - 19s 412ms/step - loss: 0.0567 - accuracy: 0.9797 - val_loss: 0.0236 - val_accuracy: 0.9935\n",
      "Epoch 4/25\n",
      "47/47 [==============================] - 19s 404ms/step - loss: 0.0488 - accuracy: 0.9847 - val_loss: 0.0167 - val_accuracy: 0.9961\n",
      "Epoch 5/25\n",
      "47/47 [==============================] - 19s 409ms/step - loss: 0.0466 - accuracy: 0.9820 - val_loss: 0.0215 - val_accuracy: 0.9948\n",
      "Epoch 6/25\n",
      "47/47 [==============================] - 19s 409ms/step - loss: 0.0407 - accuracy: 0.9867 - val_loss: 0.0113 - val_accuracy: 0.9935\n",
      "Epoch 7/25\n",
      "47/47 [==============================] - 19s 407ms/step - loss: 0.0319 - accuracy: 0.9897 - val_loss: 0.0360 - val_accuracy: 0.9857\n",
      "Epoch 8/25\n",
      "47/47 [==============================] - 19s 410ms/step - loss: 0.0421 - accuracy: 0.9870 - val_loss: 0.0103 - val_accuracy: 0.9974\n",
      "Epoch 9/25\n",
      "47/47 [==============================] - 19s 406ms/step - loss: 0.0381 - accuracy: 0.9877 - val_loss: 0.0137 - val_accuracy: 0.9935\n",
      "Epoch 10/25\n",
      "47/47 [==============================] - 19s 414ms/step - loss: 0.0354 - accuracy: 0.9897 - val_loss: 0.0117 - val_accuracy: 0.9935\n",
      "Epoch 11/25\n",
      "47/47 [==============================] - 19s 406ms/step - loss: 0.0278 - accuracy: 0.9923 - val_loss: 0.0143 - val_accuracy: 0.9935\n",
      "Epoch 12/25\n",
      "47/47 [==============================] - 19s 409ms/step - loss: 0.0279 - accuracy: 0.9913 - val_loss: 0.0121 - val_accuracy: 0.9935\n",
      "Epoch 13/25\n",
      "47/47 [==============================] - 19s 409ms/step - loss: 0.0282 - accuracy: 0.9910 - val_loss: 0.0109 - val_accuracy: 0.9948\n",
      "Epoch 14/25\n",
      "47/47 [==============================] - 19s 404ms/step - loss: 0.0348 - accuracy: 0.9893 - val_loss: 0.0165 - val_accuracy: 0.9909\n",
      "Epoch 15/25\n",
      "47/47 [==============================] - 19s 400ms/step - loss: 0.0209 - accuracy: 0.9930 - val_loss: 0.0145 - val_accuracy: 0.9948\n",
      "Epoch 16/25\n",
      "47/47 [==============================] - 19s 404ms/step - loss: 0.0306 - accuracy: 0.9897 - val_loss: 0.0086 - val_accuracy: 0.9948\n",
      "Epoch 17/25\n",
      "47/47 [==============================] - 19s 407ms/step - loss: 0.0278 - accuracy: 0.9903 - val_loss: 0.0088 - val_accuracy: 0.9961\n",
      "Epoch 18/25\n",
      "47/47 [==============================] - 19s 409ms/step - loss: 0.0285 - accuracy: 0.9907 - val_loss: 0.0149 - val_accuracy: 0.9935\n",
      "Epoch 19/25\n",
      "47/47 [==============================] - 19s 406ms/step - loss: 0.0310 - accuracy: 0.9903 - val_loss: 0.0109 - val_accuracy: 0.9935\n",
      "Epoch 20/25\n",
      "47/47 [==============================] - 19s 404ms/step - loss: 0.0213 - accuracy: 0.9923 - val_loss: 0.0131 - val_accuracy: 0.9935\n",
      "Epoch 21/25\n",
      "47/47 [==============================] - 19s 405ms/step - loss: 0.0305 - accuracy: 0.9900 - val_loss: 0.0119 - val_accuracy: 0.9935\n",
      "Epoch 22/25\n",
      "47/47 [==============================] - 19s 410ms/step - loss: 0.0255 - accuracy: 0.9927 - val_loss: 0.0122 - val_accuracy: 0.9948\n",
      "Epoch 23/25\n",
      "47/47 [==============================] - 19s 414ms/step - loss: 0.0164 - accuracy: 0.9940 - val_loss: 0.0113 - val_accuracy: 0.9961\n",
      "Epoch 24/25\n",
      "47/47 [==============================] - 19s 409ms/step - loss: 0.0279 - accuracy: 0.9903 - val_loss: 0.0133 - val_accuracy: 0.9961\n",
      "Epoch 25/25\n",
      "47/47 [==============================] - 19s 407ms/step - loss: 0.0187 - accuracy: 0.9930 - val_loss: 0.0094 - val_accuracy: 0.9948\n"
     ]
    }
   ],
   "source": [
    "# train the model\n",
    "H = model.fit(trainAug.flow(trainX, trainY, batch_size=batch_size),\n",
    "              steps_per_epoch=len(trainX) // batch_size,\n",
    "              validation_data=(testX, testY),\n",
    "              validation_steps=len(testX) // batch_size,\n",
    "              epochs=epochs)"
   ]
  },
  {
   "cell_type": "code",
   "execution_count": 8,
   "metadata": {},
   "outputs": [
    {
     "name": "stdout",
     "output_type": "stream",
     "text": [
      "              precision    recall  f1-score   support\n",
      "\n",
      "   with_mask       0.99      0.99      0.99       383\n",
      "without_mask       0.99      0.99      0.99       384\n",
      "\n",
      "    accuracy                           0.99       767\n",
      "   macro avg       0.99      0.99      0.99       767\n",
      "weighted avg       0.99      0.99      0.99       767\n",
      "\n",
      "[[381   2]\n",
      " [  2 382]]\n",
      "Saving face mask detector model.\n"
     ]
    },
    {
     "data": {
      "image/png": "[encoded data removed]",
      "text/plain": [
       "<Figure size 432x288 with 1 Axes>"
      ]
     },
     "metadata": {},
     "output_type": "display_data"
    }
   ],
   "source": [
    "# make predictions on the testing set\n",
    "predY = model.predict(testX)\n",
    "\n",
    "# classification report\n",
    "print(classification_report(testY.argmax(axis=1), predY.argmax(axis=1), target_names=le.classes_))\n",
    "cm = confusion_matrix(testY.argmax(axis=1), predY.argmax(axis=1))\n",
    "print(cm)\n",
    "\n",
    "# plot the training loss and accuracy\n",
    "plt.style.use(\"ggplot\")\n",
    "plt.figure()\n",
    "plt.title(\"Training loss and accuracy\")\n",
    "x = np.arange(0, epochs)\n",
    "plt.plot(x, H.history[\"loss\"], label=\"train_loss\")\n",
    "plt.plot(x, H.history[\"val_loss\"], label=\"val_loss\")\n",
    "plt.plot(x, H.history[\"accuracy\"], label=\"train_acc\")\n",
    "plt.plot(x, H.history[\"val_accuracy\"], label=\"val_acc\")\n",
    "plt.ylim(0, 1)\n",
    "plt.xlabel(\"Epoch\")\n",
    "plt.ylabel(\"Loss/Accuracy\")\n",
    "plt.legend()\n",
    "plt.savefig(figpath)\n",
    "\n",
    "# serialize the model to disk\n",
    "print(\"Saving face mask detector model.\")\n",
    "model.save(modelpath, save_format=\"h5\")"
   ]
  },
  {
   "cell_type": "code",
   "execution_count": null,
   "metadata": {},
   "outputs": [],
   "source": []
  }
 ],
 "metadata": {
  "kernelspec": {
   "display_name": "Python 3",
   "language": "python",
   "name": "python3"
  },
  "language_info": {
   "codemirror_mode": {
    "name": "ipython",
    "version": 3
   },
   "file_extension": ".py",
   "mimetype": "text/x-python",
   "name": "python",
   "nbconvert_exporter": "python",
   "pygments_lexer": "ipython3",
   "version": "3.8.3"
  }
 },
 "nbformat": 4,
 "nbformat_minor": 4
}
